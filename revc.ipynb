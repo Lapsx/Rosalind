{
 "cells": [
  {
   "cell_type": "code",
   "execution_count": 14,
   "metadata": {},
   "outputs": [],
   "source": [
    "def revc(arquivo):\n",
    "    lista = ['A','C','G','T']\n",
    "    f = open(arquivo, 'r')\n",
    "    l = f.read()\n",
    "    l = l[::-1]\n",
    "    l = l.replace('A','t').upper()\n",
    "    l = l.replace('T','a').upper()\n",
    "    l = l.replace('G','c').upper()\n",
    "    l = l.replace('C','g').upper()\n",
    "    f.close()\n",
    "    return l"
   ]
  },
  {
   "cell_type": "code",
   "execution_count": 15,
   "metadata": {},
   "outputs": [
    {
     "data": {
      "text/plain": [
       "'\\nTTACACTTTATCTGAGTGTCGGCTTAGACGATTGAGGAGGTTAGCCCTTTCGATAAATTGTTATGTGGCACGTTCTGGGTCAGAATGACAGCGAAATTGTTGACTAGTGCTATCAGAAGGCGGGGCCTGAGTTAGATTCTTTAGACTGGGGTGCAAGTGGAATGGAATAAGTACGCGCACTAGGCACCATATTCGAAACGCGACGTCGATCATGATATCGAACATAAAGCCGCGGTTTGGACGGCCTCGCCGGATCCTGTTTGAAGCTAAATCAAAGCCACTCCCCGAGTGAACGTGGGCCGTTTCGTTGCGATGCGAAAGCCGCTGTGCCCCGCAGAGTAAGCCCTAATACATACCCTATTTGTGAAGATGGCAACATCTCCCATCCACTCCTACCACATACTTTCGGTCGGATCCACTCTGTCCAGCGTGATAATCCGATTCTACAAATACGGCGATCCGTACGTTGCCCTTTAGCTCCGCGACGGTGCCTAACTCGATCCGGCTTGGAACAATGTAACAACGGGAGGAACGTCGGGTCTTGCCAAGATGGTACCAGATCAGCCGAGATAGTCACCGACGCCGTATTGCCGTAGCAGTGCTTTGGAGCCCTCAGATGAGAGCTTACCTGCTTGAATATAGATGACTTTTGAATGCCCGAAGCACTTCGGGCCCTGGGGCAGCCTCGATGCGCACCTTTGGCGCCGAACTTGGTGTCGTATGAACGTAGTCCCCGACTCGGGGGCTGAGTGGATGCATACTGACGCCTGCCGCTTCGGTTGGTAGTTAGCCGGGCCGCTGCGGTATTCCACTCGTAGGTAGTGCACCAAACCTAAACCCGAATGGAGAATCCGTGTCTATTCGCGAATCGGCTATGAGTGCATATCGTTAGAAGGTAATGATGCTTGAATCAAGTTCACGGTCCGACGCTCGTGACGAGAATCATAGTATTATTAAGCAGGGCGGCAGGAG'"
      ]
     },
     "execution_count": 15,
     "metadata": {},
     "output_type": "execute_result"
    }
   ],
   "source": [
    "revc('rosalind_revc.txt')"
   ]
  },
  {
   "cell_type": "code",
   "execution_count": null,
   "metadata": {},
   "outputs": [],
   "source": []
  }
 ],
 "metadata": {
  "kernelspec": {
   "display_name": "Python 3",
   "language": "python",
   "name": "python3"
  },
  "language_info": {
   "codemirror_mode": {
    "name": "ipython",
    "version": 3
   },
   "file_extension": ".py",
   "mimetype": "text/x-python",
   "name": "python",
   "nbconvert_exporter": "python",
   "pygments_lexer": "ipython3",
   "version": "3.7.4"
  }
 },
 "nbformat": 4,
 "nbformat_minor": 2
}
