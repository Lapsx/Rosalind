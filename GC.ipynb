{
 "cells": [
  {
   "cell_type": "code",
   "execution_count": 15,
   "metadata": {},
   "outputs": [],
   "source": [
    "from Bio.SeqUtils import GC\n",
    "\n",
    "def get_sequences(arquivo):\n",
    "    \n",
    "    f=open(arquivo,'r')\n",
    "    l = f.read()\n",
    "    f.close()\n",
    "    \n",
    "    lista = ['C','G','A','T']\n",
    "    l = l.split('>')[1:]\n",
    "            \n",
    "    n = len(l)\n",
    "    \n",
    "    controle = []\n",
    "    headers = []\n",
    "    new_list = []\n",
    "    total = []\n",
    "    totais = []\n",
    "    GCs = []\n",
    "    values = []\n",
    "    \n",
    "    for i in l:\n",
    "        j = i.replace('\\n', '')\n",
    "        new_list.append(j)\n",
    "        \n",
    "    for item in new_list:\n",
    "        headers.append(item[:13])\n",
    "        controle.append(GC(item[13:]))\n",
    "        for letter in lista:\n",
    "            totais.append(item.count(letter))\n",
    "            \n",
    "    for i in range(1,n+1,1):\n",
    "        total.append(sum(totais[(i-1)*4:i*4:]))\n",
    "        GCs.append(sum(totais[(i-1)*2:i*2:]))\n",
    "    \n",
    "    for i in range(n):\n",
    "        values.append(GCs[i] / total[i])\n",
    "        \n",
    "        \n",
    "    return max(controle), headers[controle.index(max(controle))] #max(values)*100, headers[values.index(max(values))]"
   ]
  },
  {
   "cell_type": "code",
   "execution_count": 16,
   "metadata": {
    "scrolled": true
   },
   "outputs": [
    {
     "data": {
      "text/plain": [
       "(52.323008849557525, 'Rosalind_3985')"
      ]
     },
     "execution_count": 16,
     "metadata": {},
     "output_type": "execute_result"
    }
   ],
   "source": [
    "get_sequences('rosalind_gc.txt')#[0].count('\\n')"
   ]
  },
  {
   "cell_type": "code",
   "execution_count": null,
   "metadata": {},
   "outputs": [],
   "source": []
  }
 ],
 "metadata": {
  "kernelspec": {
   "display_name": "Python 3",
   "language": "python",
   "name": "python3"
  },
  "language_info": {
   "codemirror_mode": {
    "name": "ipython",
    "version": 3
   },
   "file_extension": ".py",
   "mimetype": "text/x-python",
   "name": "python",
   "nbconvert_exporter": "python",
   "pygments_lexer": "ipython3",
   "version": "3.7.4"
  }
 },
 "nbformat": 4,
 "nbformat_minor": 2
}
