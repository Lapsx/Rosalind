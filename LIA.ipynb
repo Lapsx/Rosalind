{
 "cells": [
  {
   "cell_type": "code",
   "execution_count": 43,
   "metadata": {},
   "outputs": [],
   "source": [
    "import math\n",
    "\n",
    "def nCr(n,r):\n",
    "    f = math.factorial\n",
    "    return f(n) // f(r) // f(n-r)\n",
    "\n",
    "\n",
    "def binomial_comb(arquivo):\n",
    "    f=open(arquivo,'r')\n",
    "    l=f.read().split()\n",
    "    f.close()\n",
    "    \n",
    "    k = int(l[0])\n",
    "    N = int(l[1])\n",
    "    het = 4/16.0\n",
    "    total = 2**k\n",
    "    proba = []\n",
    "    \n",
    "    for i in range(N, (total+1)):\n",
    "        proba.append(nCr(total,i)*(het**i)*((1-het)**(total-i)))\n",
    "    return sum(proba)"
   ]
  },
  {
   "cell_type": "code",
   "execution_count": 44,
   "metadata": {},
   "outputs": [
    {
     "data": {
      "text/plain": [
       "0.7221283346177969"
      ]
     },
     "execution_count": 44,
     "metadata": {},
     "output_type": "execute_result"
    }
   ],
   "source": [
    "binomial_comb('rosalind_lia.txt')"
   ]
  },
  {
   "cell_type": "code",
   "execution_count": null,
   "metadata": {},
   "outputs": [],
   "source": []
  }
 ],
 "metadata": {
  "kernelspec": {
   "display_name": "Python 3",
   "language": "python",
   "name": "python3"
  },
  "language_info": {
   "codemirror_mode": {
    "name": "ipython",
    "version": 3
   },
   "file_extension": ".py",
   "mimetype": "text/x-python",
   "name": "python",
   "nbconvert_exporter": "python",
   "pygments_lexer": "ipython3",
   "version": "3.7.4"
  }
 },
 "nbformat": 4,
 "nbformat_minor": 2
}
