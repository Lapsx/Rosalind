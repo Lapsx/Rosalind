{
 "cells": [
  {
   "cell_type": "code",
   "execution_count": 1,
   "metadata": {},
   "outputs": [],
   "source": [
    "def counting_strings(arquivo):\n",
    "    \n",
    "    f=open(arquivo,'r')\n",
    "    l=f.read().split('\\n')[:-1]\n",
    "    f.close()\n",
    "    \n",
    "    s = l[0]\n",
    "    t = l[1]\n",
    "    subs = []\n",
    "    \n",
    "    for i in range(0,len(s)-len(t)+1):\n",
    "        if s[i:i+len(t)] == t:\n",
    "            subs.append(str(i+1))\n",
    "    \n",
    "    return print(' '.join(subs))"
   ]
  },
  {
   "cell_type": "code",
   "execution_count": 2,
   "metadata": {},
   "outputs": [
    {
     "name": "stdout",
     "output_type": "stream",
     "text": [
      "27 34 62 119 134 162 177 193 210 279 371 386 393 403 410 432 455 518 580 597 604 651 658 665 676 733 749 792 799 816 823 849 895 902 909\n"
     ]
    }
   ],
   "source": [
    "counting_strings('rosalind_subs.txt')"
   ]
  },
  {
   "cell_type": "code",
   "execution_count": null,
   "metadata": {},
   "outputs": [],
   "source": []
  }
 ],
 "metadata": {
  "kernelspec": {
   "display_name": "Python 3",
   "language": "python",
   "name": "python3"
  },
  "language_info": {
   "codemirror_mode": {
    "name": "ipython",
    "version": 3
   },
   "file_extension": ".py",
   "mimetype": "text/x-python",
   "name": "python",
   "nbconvert_exporter": "python",
   "pygments_lexer": "ipython3",
   "version": "3.7.4"
  }
 },
 "nbformat": 4,
 "nbformat_minor": 2
}
