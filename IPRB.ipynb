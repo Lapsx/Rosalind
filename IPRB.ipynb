{
 "cells": [
  {
   "cell_type": "code",
   "execution_count": 1,
   "metadata": {},
   "outputs": [],
   "source": [
    "f = open('rosalind_iprb.txt','r')\n",
    "l = f.read()\n",
    "f.close()"
   ]
  },
  {
   "cell_type": "code",
   "execution_count": 2,
   "metadata": {},
   "outputs": [
    {
     "data": {
      "text/plain": [
       "['26', '17', '18\\n']"
      ]
     },
     "execution_count": 2,
     "metadata": {},
     "output_type": "execute_result"
    }
   ],
   "source": [
    "l = l.split(' ')\n",
    "l"
   ]
  },
  {
   "cell_type": "code",
   "execution_count": 3,
   "metadata": {},
   "outputs": [],
   "source": [
    "''' k = lista[0]\n",
    "    m = lista[1]\n",
    "    n = lista[2] '''\n",
    "\n",
    "\n",
    "def prob_dom(lista):\n",
    "    k,m,n = lista[0], lista[1], lista[2]\n",
    "    \n",
    "    k,m,n = map(float,(k,m,n))\n",
    "    total = k+m+n\n",
    "    pk = k/total\n",
    "    pm = m/total\n",
    "    pn = n/total\n",
    "    \n",
    "    prob = 1\n",
    "    \n",
    "    prob -= pn*((n-1)/(total - 1))\n",
    "    prob -= 2*pn*(m/(total - 1))*0.5 #eliminando a probabilidade de o alelo heterozigoto passar o recessivo\n",
    "    prob -= pm*((m-1)/(total - 1))*0.25 #eliminando o homozigoto recessivo, que ocorre em 0.25 da população\n",
    "    \n",
    "    return prob"
   ]
  },
  {
   "cell_type": "code",
   "execution_count": 4,
   "metadata": {},
   "outputs": [
    {
     "data": {
      "text/plain": [
       "0.8142076502732242"
      ]
     },
     "execution_count": 4,
     "metadata": {},
     "output_type": "execute_result"
    }
   ],
   "source": [
    "prob_dom(l)"
   ]
  },
  {
   "cell_type": "code",
   "execution_count": null,
   "metadata": {},
   "outputs": [],
   "source": []
  }
 ],
 "metadata": {
  "kernelspec": {
   "display_name": "Python 3",
   "language": "python",
   "name": "python3"
  },
  "language_info": {
   "codemirror_mode": {
    "name": "ipython",
    "version": 3
   },
   "file_extension": ".py",
   "mimetype": "text/x-python",
   "name": "python",
   "nbconvert_exporter": "python",
   "pygments_lexer": "ipython3",
   "version": "3.7.4"
  }
 },
 "nbformat": 4,
 "nbformat_minor": 2
}
